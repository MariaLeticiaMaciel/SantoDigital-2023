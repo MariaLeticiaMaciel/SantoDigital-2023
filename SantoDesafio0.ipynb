{
 "cells": [
  {
   "cell_type": "code",
   "execution_count": 90,
   "metadata": {},
   "outputs": [
    {
     "name": "stdout",
     "output_type": "stream",
     "text": [
      "['*', '**', '***', '****', '*****', '******', '*******', '********', '*********']\n"
     ]
    }
   ],
   "source": [
    "\"\"\"Escreva uma função que, dado um número inteiro n, retorne uma lista \n",
    "de n strings de tal forma que a string i contém i asteriscos. Por exemplo, \n",
    "para n=5, a lista retornada seria [\"*\", \"**\", \"***\", \"****\", \"*****\"].\"\"\"\n",
    "\n",
    "num = int((input(\"Digite um número interio: \")))\n",
    "\n",
    "\n",
    "def lista_asterix(num):\n",
    "   lista = []\n",
    "   for i in range(1, num + 1):\n",
    "      lista.append(\"*\"*i)\n",
    "   return lista\n",
    "\n",
    "\n",
    "print(lista_asterix(num))"
   ]
  },
  {
   "cell_type": "code",
   "execution_count": 8,
   "metadata": {},
   "outputs": [
    {
     "name": "stdout",
     "output_type": "stream",
     "text": [
      "[(1, 3), (3, 5)]\n"
     ]
    }
   ],
   "source": [
    "\"\"\"Dado um array de números inteiros, escreva uma função que retorne o par de números com \n",
    "a menor diferença absoluta. Se houver mais de um par com a mesma diferença, retorne todos\n",
    " eles em uma lista. Por exemplo, para o array [3, 8, 50, 5, 1, 18, 12], a função deve \n",
    " retornar [(3, 1), (5, 3)].\"\"\"\n",
    "\n",
    "def pares_menor(array):\n",
    "   array.sort()  \n",
    "   menor_dif = float('inf')\n",
    "   pares_menor_dif = []\n",
    "\n",
    "   for i in range(len(array) - 1):\n",
    "      diferenca = abs(array[i] - array[i+1])\n",
    "\n",
    "      if diferenca < menor_dif:\n",
    "         menor_dif = diferenca\n",
    "         pares_menor_dif = [(array[i], array[i+1])]\n",
    "      elif diferenca == menor_dif:\n",
    "         pares_menor_dif.append((array[i], array[i+1]))\n",
    "\n",
    "   return pares_menor_dif\n",
    "\n",
    "array = [3, 8, 50, 5, 1, 18, 12]\n",
    "resultado = pares_menor(array)\n",
    "print(resultado)"
   ]
  },
  {
   "cell_type": "code",
   "execution_count": 12,
   "metadata": {},
   "outputs": [
    {
     "name": "stdout",
     "output_type": "stream",
     "text": [
      "[[], [1], [2], [1, 2]]\n"
     ]
    }
   ],
   "source": [
    "\"\"\"Escreva uma função que retorne todos os subconjuntos de um conjunto\n",
    "de números. Por exemplo, se a entrada for [1, 2], a saída deve ser [[], [1],\n",
    "[2], [1, 2]].\"\"\"\n",
    "\n",
    "def subconjunto(numeros):\n",
    "   numero = len(numeros)\n",
    "   sub = [[]]\n",
    "\n",
    "   for conjunto in numeros:\n",
    "      novo_sub = [sub + [conjunto] for sub in sub]\n",
    "      sub.extend(novo_sub)\n",
    "   return sub\n",
    "\n",
    "grupo_num = [1,2]\n",
    "resul_sub_conj = subconjunto(grupo_num)\n",
    "print(resul_sub_conj)"
   ]
  }
 ],
 "metadata": {
  "kernelspec": {
   "display_name": "Python 3",
   "language": "python",
   "name": "python3"
  },
  "language_info": {
   "codemirror_mode": {
    "name": "ipython",
    "version": 3
   },
   "file_extension": ".py",
   "mimetype": "text/x-python",
   "name": "python",
   "nbconvert_exporter": "python",
   "pygments_lexer": "ipython3",
   "version": "3.11.1"
  },
  "orig_nbformat": 4
 },
 "nbformat": 4,
 "nbformat_minor": 2
}
