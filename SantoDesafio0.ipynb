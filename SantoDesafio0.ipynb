{
 "cells": [
  {
   "cell_type": "code",
   "execution_count": 90,
   "metadata": {},
   "outputs": [
    {
     "name": "stdout",
     "output_type": "stream",
     "text": [
      "['*', '**', '***', '****', '*****', '******', '*******', '********', '*********']\n"
     ]
    }
   ],
   "source": [
    "\"\"\"Escreva uma função que, dado um número inteiro n, retorne uma lista \n",
    "de n strings de tal forma que a string i contém i asteriscos. Por exemplo, \n",
    "para n=5, a lista retornada seria [\"*\", \"**\", \"***\", \"****\", \"*****\"].\"\"\"\n",
    "\n",
    "num = int((input(\"Digite um número interio: \")))\n",
    "\n",
    "\n",
    "def lista_asterix(num):\n",
    "   lista = []\n",
    "   for i in range(1, num + 1):\n",
    "      lista.append(\"*\"*i)\n",
    "   return lista\n",
    "\n",
    "\n",
    "print(lista_asterix(num))"
   ]
  },
  {
   "cell_type": "code",
   "execution_count": 91,
   "metadata": {},
   "outputs": [
    {
     "name": "stdout",
     "output_type": "stream",
     "text": [
      "Lista de elementos:  [50, 18, 12, 8, 5, 3, 1]\n",
      "Números com a menor diferença absoluta:  [(5, 3), (3, 1)]\n"
     ]
    }
   ],
   "source": [
    "\"\"\"Dado um array de números inteiros, escreva uma função que retorne o par de números com \n",
    "a menor diferença absoluta. Se houver mais de um par com a mesma diferença, retorne todos\n",
    " eles em uma lista. Por exemplo, para o array [3, 8, 50, 5, 1, 18, 12], a função deve \n",
    " retornar [(3, 1), (5, 3)].\"\"\"\n",
    "\n"
   ]
  },
  {
   "cell_type": "code",
   "execution_count": 83,
   "metadata": {},
   "outputs": [
    {
     "data": {
      "text/plain": [
       "'Escreva uma função que retorne todos os subconjuntos de um conjunto\\nde números. Por exemplo, se a entrada for [1, 2], a saída deve ser [[], [1],\\n[2], [1, 2]].'"
      ]
     },
     "execution_count": 83,
     "metadata": {},
     "output_type": "execute_result"
    }
   ],
   "source": [
    "\"\"\"Escreva uma função que retorne todos os subconjuntos de um conjunto\n",
    "de números. Por exemplo, se a entrada for [1, 2], a saída deve ser [[], [1],\n",
    "[2], [1, 2]].\"\"\"\n"
   ]
  }
 ],
 "metadata": {
  "kernelspec": {
   "display_name": "Python 3",
   "language": "python",
   "name": "python3"
  },
  "language_info": {
   "codemirror_mode": {
    "name": "ipython",
    "version": 3
   },
   "file_extension": ".py",
   "mimetype": "text/x-python",
   "name": "python",
   "nbconvert_exporter": "python",
   "pygments_lexer": "ipython3",
   "version": "3.11.1"
  },
  "orig_nbformat": 4
 },
 "nbformat": 4,
 "nbformat_minor": 2
}
